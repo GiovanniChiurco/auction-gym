{
 "cells": [
  {
   "cell_type": "code",
   "id": "initial_id",
   "metadata": {
    "collapsed": true,
    "ExecuteTime": {
     "end_time": "2024-09-04T12:44:44.381965Z",
     "start_time": "2024-09-04T12:44:44.362703Z"
    }
   },
   "source": [
    "from new_main import instantiate_agents, instantiate_auction\n",
    "from tqdm.notebook import tqdm\n",
    "import numpy as np\n",
    "import pandas as pd\n",
    "from collections import defaultdict\n",
    "import json\n",
    "import pickle\n",
    "from copy import deepcopy\n",
    "from sklearn.metrics.pairwise import cosine_similarity"
   ],
   "outputs": [],
   "execution_count": 28
  },
  {
   "metadata": {
    "ExecuteTime": {
     "end_time": "2024-09-04T12:25:41.280690Z",
     "start_time": "2024-09-04T12:25:41.265667Z"
    }
   },
   "cell_type": "code",
   "source": [
    "class Publisher:\n",
    "    def __init__(self, rng, name, num_auctions):\n",
    "        self.rng = rng\n",
    "        self.name = name\n",
    "        # Read from memory publisher embedding\n",
    "        self.embedding = pickle.load(open(\"publisher_embedding/data/sites/\" + name + \".pkl\", \"rb\"))\n",
    "        # Number of auctions to simulate according to past data\n",
    "        self.num_auctions = num_auctions\n",
    "        # Metrics of revenue\n",
    "        self.revenue = .0\n",
    "\n",
    "    def generate_user_context(self):\n",
    "        # Definisci l'intensità del rumore\n",
    "        noise_strength = 0.01\n",
    "        # Genera il rumore gaussiano\n",
    "        noise = np.random.normal(0, noise_strength, self.embedding.shape)\n",
    "        # Aggiungi il rumore agli embedding originali\n",
    "        noisy_embeddings = self.embedding + noise\n",
    "        return noisy_embeddings"
   ],
   "id": "caeeedb814bcb336",
   "outputs": [],
   "execution_count": 9
  },
  {
   "metadata": {
    "ExecuteTime": {
     "end_time": "2024-09-04T11:03:47.404531Z",
     "start_time": "2024-09-04T11:03:47.397967Z"
    }
   },
   "cell_type": "code",
   "source": [
    "def parse_config(path):\n",
    "    with open(path) as f:\n",
    "        config = json.load(f)\n",
    "\n",
    "    # Set up Random Number Generator\n",
    "    rng = np.random.default_rng(config['random_seed'])\n",
    "    np.random.seed(config['random_seed'])\n",
    "\n",
    "    # Number of runs\n",
    "    num_runs = config['num_runs'] if 'num_runs' in config.keys() else 1\n",
    "\n",
    "    # Max. number of slots in every auction round\n",
    "    # Multi-slot is currently not fully supported.\n",
    "    max_slots = 1\n",
    "\n",
    "    # Expand agent-config if there are multiple copies\n",
    "    agent_configs = []\n",
    "    num_agents = 0\n",
    "    for agent_config in config['agents']:\n",
    "        if 'num_copies' in agent_config.keys():\n",
    "            for i in range(1, agent_config['num_copies'] + 1):\n",
    "                agent_config_copy = deepcopy(agent_config)\n",
    "                agent_config_copy['name'] += f' {num_agents + 1}'\n",
    "                agent_configs.append(agent_config_copy)\n",
    "                num_agents += 1\n",
    "        else:\n",
    "            agent_configs.append(agent_config)\n",
    "            num_agents += 1\n",
    "\n",
    "    # Read ads embeddings\n",
    "    ads_embeddings = pickle.load(open('publisher_embedding/data/nuova_descr_annunci_embed.pkl', 'rb'))\n",
    "    # Pick embeddings from a pre-defined set\n",
    "    agents2items = {\n",
    "        agent_config['name']: ads_embeddings[agent_config['product_name']]\n",
    "        for agent_config in agent_configs\n",
    "    }\n",
    "\n",
    "    agents2item_values = {\n",
    "        #agent_config['name']: rng.lognormal(0.1, 0.2, agent_config['num_items'])\n",
    "        agent_config['name']: np.ones(agent_config['num_items'])\n",
    "        for agent_config in agent_configs\n",
    "    }\n",
    "\n",
    "    # Publishers configs\n",
    "    publisher_configs = config['publishers']\n",
    "\n",
    "    return (rng, config, agent_configs, agents2items, agents2item_values, publisher_configs,\n",
    "            num_runs, max_slots)"
   ],
   "id": "845830302878c1d4",
   "outputs": [],
   "execution_count": 4
  },
  {
   "metadata": {
    "ExecuteTime": {
     "end_time": "2024-09-04T12:25:45.451886Z",
     "start_time": "2024-09-04T12:25:45.448018Z"
    }
   },
   "cell_type": "code",
   "source": [
    "def instantiate_publishers(rng, publisher_configs):\n",
    "    return [\n",
    "        Publisher(\n",
    "            rng=rng,\n",
    "            name=publisher_config['name'],\n",
    "            num_auctions=publisher_config['num_auctions'],\n",
    "        )\n",
    "        for publisher_config in publisher_configs\n",
    "    ]"
   ],
   "id": "fd725761592efe86",
   "outputs": [],
   "execution_count": 10
  },
  {
   "metadata": {
    "ExecuteTime": {
     "end_time": "2024-09-04T12:25:46.828782Z",
     "start_time": "2024-09-04T12:25:46.809060Z"
    }
   },
   "cell_type": "code",
   "source": [
    "# Parse configuration file\n",
    "(rng, config, agent_configs, agents2items, agents2item_values, publisher_configs, num_runs, max_slots) = parse_config('../new_config/FP_Oracle_auto_DR_others_Truth.json')"
   ],
   "id": "8450a1620fda9c4b",
   "outputs": [],
   "execution_count": 11
  },
  {
   "metadata": {
    "ExecuteTime": {
     "end_time": "2024-09-04T12:25:48.173880Z",
     "start_time": "2024-09-04T12:25:48.137949Z"
    }
   },
   "cell_type": "code",
   "source": [
    "agents = instantiate_agents(rng, agent_configs, agents2item_values, agents2items)\n",
    "auction, num_iter, rounds_per_iter, output_dir = instantiate_auction(rng, config, agents2items, agents2item_values, agents, max_slots)\n",
    "publishers = instantiate_publishers(rng, publisher_configs)"
   ],
   "id": "2799c26cfaee4563",
   "outputs": [],
   "execution_count": 12
  },
  {
   "metadata": {
    "ExecuteTime": {
     "end_time": "2024-09-04T12:28:19.515679Z",
     "start_time": "2024-09-04T12:28:19.503331Z"
    }
   },
   "cell_type": "code",
   "source": [
    "def add_noise(user_embedding, noise_strength):\n",
    "    noise = np.random.normal(0, noise_strength, user_embedding.shape)\n",
    "    return user_embedding + noise"
   ],
   "id": "91b2b05e54e09341",
   "outputs": [],
   "execution_count": 18
  },
  {
   "metadata": {
    "ExecuteTime": {
     "end_time": "2024-09-04T12:30:20.205130Z",
     "start_time": "2024-09-04T12:30:20.185624Z"
    }
   },
   "cell_type": "code",
   "source": [
    "def compute_user_embed_matrix(publisher, noise_strength):\n",
    "    user_embed_matrix = np.zeros((publisher.num_auctions, publisher.embedding.size))\n",
    "    for i in range(publisher.num_auctions):\n",
    "        user_embed_matrix[i] = add_noise(publisher.embedding, noise_strength)\n",
    "    return user_embed_matrix"
   ],
   "id": "318440f14b92fc6f",
   "outputs": [],
   "execution_count": 22
  },
  {
   "metadata": {
    "ExecuteTime": {
     "end_time": "2024-09-04T12:31:22.749130Z",
     "start_time": "2024-09-04T12:31:22.743294Z"
    }
   },
   "cell_type": "code",
   "source": [
    "def compute_all_users_matrix(publishers, noise_strength):\n",
    "    all_users_matrix = {}\n",
    "    for publisher in publishers:\n",
    "        all_users_matrix[publisher.name] = compute_user_embed_matrix(publisher, noise_strength)\n",
    "    return all_users_matrix"
   ],
   "id": "757933e224d10030",
   "outputs": [],
   "execution_count": 24
  },
  {
   "metadata": {},
   "cell_type": "code",
   "outputs": [],
   "execution_count": 20,
   "source": "noise_strength = 0.01",
   "id": "16e24bdd24e44b45"
  },
  {
   "metadata": {
    "ExecuteTime": {
     "end_time": "2024-09-04T12:31:27.001475Z",
     "start_time": "2024-09-04T12:31:26.341195Z"
    }
   },
   "cell_type": "code",
   "source": "all_users_matrix = compute_all_users_matrix(publishers, noise_strength)",
   "id": "a88ec655418061b",
   "outputs": [],
   "execution_count": 25
  },
  {
   "metadata": {
    "ExecuteTime": {
     "end_time": "2024-09-04T12:51:23.450214Z",
     "start_time": "2024-09-04T12:51:23.445469Z"
    }
   },
   "cell_type": "code",
   "source": [
    "def agent_pub_user_similarity(agents2items, publisher, all_users_matrix):\n",
    "    user_pub_sim = {}\n",
    "    curr_pub_matrix = all_users_matrix[publisher.name]\n",
    "    for agent, ad_embedding in agents2items.items():\n",
    "        sim = cosine_similarity(ad_embedding.reshape(1, -1), curr_pub_matrix)\n",
    "        user_pub_sim[agent] = sim\n",
    "    return user_pub_sim"
   ],
   "id": "7b13938a2e4835df",
   "outputs": [],
   "execution_count": 32
  },
  {
   "metadata": {
    "ExecuteTime": {
     "end_time": "2024-09-04T12:52:24.041721Z",
     "start_time": "2024-09-04T12:52:24.035658Z"
    }
   },
   "cell_type": "code",
   "source": [
    "def compute_matrix_user_ad(agents2items, publishers, all_users_matrix):\n",
    "    matrix_user_ad = {}\n",
    "    for publisher in publishers:\n",
    "        matrix_user_ad[publisher.name] = agent_pub_user_similarity(agents2items, publisher, all_users_matrix)\n",
    "    return matrix_user_ad"
   ],
   "id": "16ea8268d782b775",
   "outputs": [],
   "execution_count": 34
  },
  {
   "metadata": {
    "ExecuteTime": {
     "end_time": "2024-09-04T12:52:27.955423Z",
     "start_time": "2024-09-04T12:52:27.047748Z"
    }
   },
   "cell_type": "code",
   "source": "matrix_user_ad = compute_matrix_user_ad(agents2items, publishers, all_users_matrix)",
   "id": "9eb5acdf1341d92",
   "outputs": [],
   "execution_count": 35
  },
  {
   "metadata": {
    "ExecuteTime": {
     "end_time": "2024-09-04T15:21:45.555115Z",
     "start_time": "2024-09-04T15:21:45.541698Z"
    }
   },
   "cell_type": "code",
   "source": "matrix_user_ad[\"corriere.it\"]['Auto da corsa 2'][:, 1]",
   "id": "907f753a5ff67708",
   "outputs": [
    {
     "data": {
      "text/plain": [
       "array([0.19729596])"
      ]
     },
     "execution_count": 49,
     "metadata": {},
     "output_type": "execute_result"
    }
   ],
   "execution_count": 49
  },
  {
   "metadata": {
    "ExecuteTime": {
     "end_time": "2024-09-04T12:56:50.214952Z",
     "start_time": "2024-09-04T12:56:50.197860Z"
    }
   },
   "cell_type": "code",
   "source": [
    "def compute_all_users_agent_similarity(publishers, noise_strength, agents2items):\n",
    "    all_users_matrix = compute_all_users_matrix(publishers, noise_strength)\n",
    "    return compute_matrix_user_ad(agents2items, publishers, all_users_matrix)"
   ],
   "id": "f6d76162b6f5bd23",
   "outputs": [],
   "execution_count": 36
  },
  {
   "metadata": {
    "ExecuteTime": {
     "end_time": "2024-09-04T12:56:59.178636Z",
     "start_time": "2024-09-04T12:56:57.800244Z"
    }
   },
   "cell_type": "code",
   "source": [
    "noise_strength = 0.01\n",
    "all_users_agent_similarity = compute_all_users_agent_similarity(publishers, noise_strength, agents2items)"
   ],
   "id": "a22df175d42b8c6a",
   "outputs": [],
   "execution_count": 37
  },
  {
   "metadata": {
    "ExecuteTime": {
     "end_time": "2024-09-04T12:58:25.322091Z",
     "start_time": "2024-09-04T12:58:25.293461Z"
    }
   },
   "cell_type": "code",
   "source": "pickle.dump(all_users_agent_similarity, open(\"all_users_agent_similarity.pkl\", \"wb\"))",
   "id": "17b2c4ad3a4c9b9e",
   "outputs": [],
   "execution_count": 38
  },
  {
   "metadata": {
    "ExecuteTime": {
     "end_time": "2024-09-04T13:28:45.782006Z",
     "start_time": "2024-09-04T13:28:45.769304Z"
    }
   },
   "cell_type": "code",
   "source": [
    "mask_pub_agent = {}\n",
    "for publisher in publishers:\n",
    "    mask_pub_agent[publisher.name] = np.zeros(publisher.num_auctions)"
   ],
   "id": "c6ff36ccfc1930a3",
   "outputs": [],
   "execution_count": 40
  },
  {
   "metadata": {},
   "cell_type": "code",
   "outputs": [],
   "execution_count": null,
   "source": [
    "# Pick at random a publisher and take the first index of the relative array different from 1. Repeat until all the arrays are filled with 1\n",
    "def fill_mask_pub_agent(mask_pub_agent, publishers):\n",
    "    while not all(np.all(mask == 1) for mask in mask_pub_agent.values()):\n",
    "        publisher = np.random.choice(publishers)\n",
    "        mask = mask_pub_agent[publisher.name]\n",
    "        idx = np.where(mask == 0)[0][0]\n",
    "        \n",
    "        mask[idx] = 1"
   ],
   "id": "468ce06509955b09"
  },
  {
   "metadata": {},
   "cell_type": "code",
   "outputs": [],
   "execution_count": null,
   "source": [
    "def run_repeated_auctions():\n",
    "    agents = instantiate_agents(rng, agent_configs, agents2item_values, agents2items)\n",
    "    auction, num_iter, rounds_per_iter, output_dir = instantiate_auction(rng, config, agents2items, agents2item_values, agents, max_slots)\n",
    "    publishers = instantiate_publishers(rng, publisher_configs)\n",
    "    \n",
    "    agent2net_utility = defaultdict(list)\n",
    "    agent2gross_utility = defaultdict(list)\n",
    "    \n",
    "    for i in range(num_iter):\n",
    "        print(f'==== ITERATION {i} ====')\n",
    "        # Round-robin over publishers\n",
    "        pub_auctions = {publisher.name: publisher.num_auctions for publisher in publishers}\n",
    "        total_auctions = sum(pub_auctions.values())\n",
    "\n",
    "        with tqdm(total=total_auctions) as pbar:\n",
    "            while sum(pub_auctions.values()) > 0:\n",
    "                for publisher in publishers:\n",
    "                    if pub_auctions[publisher.name] > 0:\n",
    "                        # Generate a user from the current publisher\n",
    "                        curr_user_context = publisher.generate_user_context()\n",
    "                        # Simulate the auction\n",
    "                        auction.simulate_opportunity(curr_user_context, publisher.name)\n",
    "                        pub_auctions[publisher.name] -= 1\n",
    "                        pbar.update(1)\n",
    "\n",
    "        for agent_id, agent in enumerate(auction.agents):\n",
    "            print(f'Agent {agent.name} has spent {agent.get_agent_spent()}, '\n",
    "                  f'winning {agent.get_agent_opp_won()} opportunities (win ratio: {agent.get_agent_won_ratio()})')\n",
    "            print(f'Mean value paid for a won bid: {agent.get_mean_won_bid()}')\n",
    "\n",
    "            agent.update(iteration=i)\n",
    "\n",
    "            agent.clear_utility()\n",
    "            agent.clear_logs()\n",
    "\n",
    "        auction.clear_revenue()\n",
    "        \n",
    "    return agent2net_utility, agent2gross_utility"
   ],
   "id": "220e27f76276eb3e"
  },
  {
   "metadata": {},
   "cell_type": "code",
   "outputs": [],
   "execution_count": null,
   "source": "import os",
   "id": "cda12f347e5c96e1"
  },
  {
   "metadata": {},
   "cell_type": "code",
   "outputs": [],
   "execution_count": null,
   "source": [
    "# Parse configuration file\n",
    "(rng, config, agent_configs, agents2items, agents2item_values, publisher_configs, num_runs, max_slots) = parse_config('../new_config/FP_Oracle_auto_DR_others_Truth.json')"
   ],
   "id": "262155729da02bbf"
  },
  {
   "metadata": {},
   "cell_type": "code",
   "outputs": [],
   "execution_count": null,
   "source": [
    "agents = instantiate_agents(rng, agent_configs, agents2item_values, agents2items)\n",
    "auction, num_iter, rounds_per_iter, output_dir = instantiate_auction(rng, config, agents2items, agents2item_values, agents, max_slots)\n",
    "publishers = instantiate_publishers(rng, publisher_configs)"
   ],
   "id": "341f25d601c7d0ec"
  },
  {
   "metadata": {},
   "cell_type": "code",
   "outputs": [],
   "execution_count": null,
   "source": [
    "def get_random_publishers(num_publishers, num_auctions):\n",
    "    sites_dir = \"src/publisher_embedding/data/sites/\"\n",
    "    sites = [site.replace(\".pkl\", \"\") for site in os.listdir(sites_dir)]\n",
    "    chosen_site_list = np.random.choice(sites, num_publishers, replace=False)\n",
    "    return [\n",
    "        {\n",
    "            \"name\": site,\n",
    "            \"num_auctions\": num_auctions\n",
    "        }\n",
    "        for site in chosen_site_list\n",
    "    ]"
   ],
   "id": "6f37c9d0b2b6d6b2"
  },
  {
   "metadata": {},
   "cell_type": "code",
   "outputs": [],
   "execution_count": null,
   "source": [
    "noise_strength = 0.01\n",
    "all_user_context, all_users_agent_similarity = compute_all_users_agent_similarity(publishers, noise_strength, agents2items)"
   ],
   "id": "d94d6bbccf24b89c"
  }
 ],
 "metadata": {
  "kernelspec": {
   "display_name": "Python 3",
   "language": "python",
   "name": "python3"
  },
  "language_info": {
   "codemirror_mode": {
    "name": "ipython",
    "version": 2
   },
   "file_extension": ".py",
   "mimetype": "text/x-python",
   "name": "python",
   "nbconvert_exporter": "python",
   "pygments_lexer": "ipython2",
   "version": "2.7.6"
  }
 },
 "nbformat": 4,
 "nbformat_minor": 5
}
