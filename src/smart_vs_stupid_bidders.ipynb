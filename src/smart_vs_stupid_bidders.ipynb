{
 "cells": [
  {
   "cell_type": "code",
   "execution_count": null,
   "id": "initial_id",
   "metadata": {
    "collapsed": true
   },
   "outputs": [],
   "source": [
    "from new_main import parse_config, instantiate_agents, instantiate_auction, instantiate_publishers\n",
    "from tqdm.notebook import tqdm\n",
    "import numpy as np\n",
    "import pandas as pd\n",
    "from collections import defaultdict"
   ]
  },
  {
   "metadata": {},
   "cell_type": "code",
   "outputs": [],
   "execution_count": null,
   "source": [
    "# Parse configuration file\n",
    "(rng, config, agent_configs, agents2items, agents2item_values, publisher_configs, num_runs, max_slots) = parse_config('../new_config/FP_Oracle.json')"
   ],
   "id": "1b140a651598b488"
  },
  {
   "metadata": {},
   "cell_type": "code",
   "outputs": [],
   "execution_count": null,
   "source": [
    "def run_repeated_auctions():\n",
    "    agents = instantiate_agents(rng, agent_configs, agents2item_values, agents2items)\n",
    "    auction, num_iter, rounds_per_iter, output_dir = instantiate_auction(rng, config, agents2items, agents2item_values, agents, max_slots)\n",
    "    publishers = instantiate_publishers(rng, publisher_configs)\n",
    "    \n",
    "    agent2net_utility = defaultdict(list)\n",
    "    agent2gross_utility = defaultdict(list)\n",
    "    \n",
    "    auction_revenue = []\n",
    "    \n",
    "    for i in range(num_iter):\n",
    "        print(f'==== ITERATION {i} ====')\n",
    "        # Round-robin over publishers\n",
    "        pub_auctions = {publisher.name: publisher.num_auctions for publisher in publishers}\n",
    "        total_auctions = sum(pub_auctions.values())\n",
    "\n",
    "        with tqdm(total=total_auctions) as pbar:\n",
    "            while sum(pub_auctions.values()) > 0:\n",
    "                for publisher in publishers:\n",
    "                    if pub_auctions[publisher.name] > 0:\n",
    "                        # Generate a user from the current publisher\n",
    "                        curr_user_context = publisher.generate_user_context()\n",
    "                        # Simulate the auction\n",
    "                        auction.simulate_opportunity(curr_user_context, publisher.name)\n",
    "                        pub_auctions[publisher.name] -= 1\n",
    "                        pbar.update(1)\n",
    "\n",
    "        for agent_id, agent in enumerate(auction.agents):\n",
    "            print(f'Agent {agent.name} has spent {agent.get_agent_spent()}, '\n",
    "                  f'winning {agent.get_agent_opp_won()} opportunities (win ratio: {agent.get_agent_won_ratio()})')\n",
    "            print(f'Mean value paid for a won bid: {agent.get_mean_won_bid()}')\n",
    "\n",
    "            agent.update(iteration=i)\n",
    "\n",
    "            agent2net_utility[agent.name].append(agent.net_utility)\n",
    "            agent2gross_utility[agent.name].append(agent.gross_utility)\n",
    "\n",
    "            agent.clear_utility()\n",
    "            agent.clear_logs()\n",
    "\n",
    "        auction_revenue.append(auction.revenue)\n",
    "        auction.clear_revenue()\n"
   ],
   "id": "3445621d6d129cbf"
  },
  {
   "metadata": {},
   "cell_type": "code",
   "outputs": [],
   "execution_count": null,
   "source": "def sample_fixed_publisher(chosen_publisher_list, num_auctions=10000):",
   "id": "a4d97ea156575d63"
  }
 ],
 "metadata": {
  "kernelspec": {
   "display_name": "Python 3",
   "language": "python",
   "name": "python3"
  },
  "language_info": {
   "codemirror_mode": {
    "name": "ipython",
    "version": 2
   },
   "file_extension": ".py",
   "mimetype": "text/x-python",
   "name": "python",
   "nbconvert_exporter": "python",
   "pygments_lexer": "ipython2",
   "version": "2.7.6"
  }
 },
 "nbformat": 4,
 "nbformat_minor": 5
}
