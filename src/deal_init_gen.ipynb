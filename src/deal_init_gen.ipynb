{
 "cells": [
  {
   "cell_type": "code",
   "id": "initial_id",
   "metadata": {
    "collapsed": true,
    "ExecuteTime": {
     "end_time": "2024-09-26T14:52:54.381631Z",
     "start_time": "2024-09-26T14:52:53.059265Z"
    }
   },
   "source": [
    "import pickle\n",
    "from sklearn.metrics.pairwise import cosine_similarity\n",
    "import numpy as np"
   ],
   "outputs": [],
   "execution_count": 1
  },
  {
   "metadata": {
    "ExecuteTime": {
     "end_time": "2024-09-26T14:52:54.456198Z",
     "start_time": "2024-09-26T14:52:54.453997Z"
    }
   },
   "cell_type": "code",
   "source": [
    "def add_noise(user_embedding, noise_strength=0.01):\n",
    "    noise = np.random.normal(0, noise_strength, user_embedding.shape)\n",
    "    return user_embedding + noise"
   ],
   "id": "280a7679cda38549",
   "outputs": [],
   "execution_count": 2
  },
  {
   "metadata": {
    "ExecuteTime": {
     "end_time": "2024-09-26T15:06:09.197793Z",
     "start_time": "2024-09-26T15:06:09.182986Z"
    }
   },
   "cell_type": "code",
   "source": [
    "def initialize_deal(publisher_list, round_per_iter, agents, adv_embeddings):\n",
    "    publisher_emb = pickle.load(open('publisher_embedding/data/embeddings_to_pick/sites_embeddings_10dim.pkl', 'rb'))\n",
    "    chosen_publisher_emb = {publisher: publisher_emb[publisher] for publisher in publisher_list}\n",
    "    # For each publisher, add noise to the embedding to simulate different users for rounds_per_iter times\n",
    "    noisy_publisher_emb = {\n",
    "        publisher: np.array([\n",
    "            add_noise(chosen_publisher_emb[publisher])\n",
    "            for _ in range(round_per_iter)\n",
    "        ])\n",
    "        for publisher in publisher_list\n",
    "    }\n",
    "    # Compute cosine similarity between each pair of noisy embeddings and all adv agents embeddings\n",
    "    agents_publishers_similarity = {}\n",
    "    for agent in agents:\n",
    "        agents_publishers_similarity[agent['name']] = {}\n",
    "        agent_embedding = adv_embeddings[agent['adv_name']]\n",
    "        for publisher in publisher_list:\n",
    "            noisy_emb = noisy_publisher_emb[publisher]\n",
    "            agent_publisher_sim = cosine_similarity(noisy_emb, agent_embedding.reshape(1, -1))\n",
    "            agents_publishers_similarity[agent['name']][publisher] = agent_publisher_sim\n",
    "    return agents_publishers_similarity"
   ],
   "id": "de15b98b31f3a72e",
   "outputs": [],
   "execution_count": 40
  },
  {
   "metadata": {
    "ExecuteTime": {
     "end_time": "2024-09-26T14:57:02.988388Z",
     "start_time": "2024-09-26T14:57:02.982787Z"
    }
   },
   "cell_type": "code",
   "source": [
    "publisher_list = ['repubblica.it', 'ilfattoquotidiano.it', 'corriere.it', 'lastampa.it', 'ilsole24ore.com']\n",
    "agents = [\n",
    "    {\n",
    "        'name': 'agent1',\n",
    "        'adv_name': 'Racer 1000'\n",
    "    },\n",
    "    {\n",
    "        'name': 'agent2',\n",
    "        'adv_name': 'Reflex Pro'\n",
    "    }\n",
    "]\n",
    "adv_embeddings = pickle.load(open('publisher_embedding/data/embeddings_to_pick/ad_embeddings_10dim.pkl', 'rb'))"
   ],
   "id": "40bfca821c1a4344",
   "outputs": [],
   "execution_count": 8
  },
  {
   "metadata": {
    "ExecuteTime": {
     "end_time": "2024-09-26T14:58:41.301510Z",
     "start_time": "2024-09-26T14:58:41.293400Z"
    }
   },
   "cell_type": "code",
   "source": "round_per_iter = 10",
   "id": "478422721761c229",
   "outputs": [],
   "execution_count": 12
  },
  {
   "metadata": {
    "ExecuteTime": {
     "end_time": "2024-09-26T14:58:42.050210Z",
     "start_time": "2024-09-26T14:58:42.032664Z"
    }
   },
   "cell_type": "code",
   "source": [
    "publisher_emb = pickle.load(open('publisher_embedding/data/embeddings_to_pick/sites_embeddings_10dim.pkl', 'rb'))\n",
    "chosen_publisher_emb = {publisher: publisher_emb[publisher] for publisher in publisher_list}\n",
    "# For each publisher, add noise to the embedding to simulate different users for rounds_per_iter times\n",
    "noisy_publisher_emb = {\n",
    "    publisher: np.array([\n",
    "        add_noise(chosen_publisher_emb[publisher])\n",
    "        for _ in range(round_per_iter)\n",
    "    ])\n",
    "    for publisher in publisher_list\n",
    "}"
   ],
   "id": "62d8e66516612f2d",
   "outputs": [],
   "execution_count": 13
  },
  {
   "metadata": {
    "ExecuteTime": {
     "end_time": "2024-09-26T15:01:04.168316Z",
     "start_time": "2024-09-26T15:01:04.158013Z"
    }
   },
   "cell_type": "code",
   "source": "noisy_publisher_emb['repubblica.it']",
   "id": "4aaa13ab41f53a98",
   "outputs": [
    {
     "data": {
      "text/plain": [
       "array([[ 4.40166322e-01,  1.01663863e-01,  1.67248904e-01,\n",
       "         5.14380222e-02,  3.54608968e-02,  1.22950198e-02,\n",
       "        -6.82915685e-02, -2.44192066e-02, -1.11601488e-02,\n",
       "        -3.89383178e-03],\n",
       "       [ 4.65482262e-01,  1.03009698e-01,  1.76115524e-01,\n",
       "         8.20578294e-02,  4.09425000e-02, -2.26394842e-04,\n",
       "        -4.96406599e-02, -2.19545114e-02,  1.09332297e-02,\n",
       "        -8.14898994e-03],\n",
       "       [ 4.61851025e-01,  8.01479624e-02,  1.55169054e-01,\n",
       "         8.37390718e-02,  1.57718437e-02,  2.08718830e-02,\n",
       "        -8.99843646e-02, -9.00611723e-03,  2.82247839e-03,\n",
       "        -1.03272111e-03],\n",
       "       [ 4.44346154e-01,  9.39257521e-02,  1.77304488e-01,\n",
       "         4.57871949e-02,  3.15393508e-02,  2.81934326e-04,\n",
       "        -5.91211327e-02, -2.79829860e-02, -1.00514015e-02,\n",
       "         5.89371156e-05],\n",
       "       [ 4.56070120e-01,  9.12196299e-02,  1.42146305e-01,\n",
       "         6.32444602e-02,  4.27025743e-02,  7.65617071e-03,\n",
       "        -6.85382369e-02, -2.82851625e-02,  3.92757468e-03,\n",
       "         1.64828924e-02],\n",
       "       [ 4.58961589e-01,  9.22287836e-02,  1.47678065e-01,\n",
       "         7.80352190e-02,  2.98852266e-02, -2.68373352e-03,\n",
       "        -6.49907551e-02, -6.87926111e-03,  1.95015641e-02,\n",
       "        -2.05632158e-02],\n",
       "       [ 4.56580055e-01,  8.18927255e-02,  1.70433646e-01,\n",
       "         5.84853132e-02,  3.96633343e-02,  1.42285247e-02,\n",
       "        -5.45856304e-02, -2.21074040e-02, -4.19847739e-03,\n",
       "        -8.06119119e-03],\n",
       "       [ 4.65454795e-01,  7.79005330e-02,  1.54578468e-01,\n",
       "         6.02975288e-02,  2.11821036e-02,  5.10074732e-03,\n",
       "        -4.14039207e-02, -1.13025748e-03,  4.93029050e-03,\n",
       "         1.30028885e-02],\n",
       "       [ 4.46469878e-01,  9.65945433e-02,  1.63707920e-01,\n",
       "         7.61044063e-02,  2.16098969e-02,  6.98924613e-03,\n",
       "        -6.15227304e-02, -2.65371212e-02, -2.51164529e-03,\n",
       "        -5.89352966e-03],\n",
       "       [ 4.47765413e-01,  9.51709400e-02,  1.68213781e-01,\n",
       "         6.57850726e-02,  4.88910954e-02,  1.21262307e-02,\n",
       "        -5.49719270e-02, -3.06134148e-02, -2.22368343e-02,\n",
       "        -4.89091803e-03]])"
      ]
     },
     "execution_count": 14,
     "metadata": {},
     "output_type": "execute_result"
    }
   ],
   "execution_count": 14
  },
  {
   "metadata": {
    "ExecuteTime": {
     "end_time": "2024-09-26T15:33:42.257066Z",
     "start_time": "2024-09-26T15:33:42.235238Z"
    }
   },
   "cell_type": "code",
   "source": "noisy_publisher_emb['repubblica.it'][0]",
   "id": "6cbd8c74c5283c6a",
   "outputs": [
    {
     "data": {
      "text/plain": [
       "array([ 0.44016632,  0.10166386,  0.1672489 ,  0.05143802,  0.0354609 ,\n",
       "        0.01229502, -0.06829157, -0.02441921, -0.01116015, -0.00389383])"
      ]
     },
     "execution_count": 45,
     "metadata": {},
     "output_type": "execute_result"
    }
   ],
   "execution_count": 45
  },
  {
   "metadata": {
    "ExecuteTime": {
     "end_time": "2024-09-26T15:01:33.738088Z",
     "start_time": "2024-09-26T15:01:33.713349Z"
    }
   },
   "cell_type": "code",
   "source": "adv_embeddings['Racer 1000']",
   "id": "c3525663226413d8",
   "outputs": [
    {
     "data": {
      "text/plain": [
       "array([ 0.3140404 , -0.17245695,  0.07879242, -0.11443274,  0.28469235,\n",
       "        0.05925324,  0.15899682, -0.14622322,  0.03026602, -0.02893178],\n",
       "      dtype=float32)"
      ]
     },
     "execution_count": 15,
     "metadata": {},
     "output_type": "execute_result"
    }
   ],
   "execution_count": 15
  },
  {
   "metadata": {
    "ExecuteTime": {
     "end_time": "2024-09-26T15:02:10.590647Z",
     "start_time": "2024-09-26T15:02:10.580886Z"
    }
   },
   "cell_type": "code",
   "source": "cosine_similarity(noisy_publisher_emb['repubblica.it'], adv_embeddings['Racer 1000'].reshape(1, -1))",
   "id": "d178e1d53416e190",
   "outputs": [
    {
     "data": {
      "text/plain": [
       "array([[0.50434156],\n",
       "       [0.51029911],\n",
       "       [0.46937277],\n",
       "       [0.51640276],\n",
       "       [0.51889865],\n",
       "       [0.49212789],\n",
       "       [0.53591857],\n",
       "       [0.51716585],\n",
       "       [0.4887576 ],\n",
       "       [0.52854021]])"
      ]
     },
     "execution_count": 18,
     "metadata": {},
     "output_type": "execute_result"
    }
   ],
   "execution_count": 18
  },
  {
   "metadata": {
    "ExecuteTime": {
     "end_time": "2024-09-26T15:06:16.272868Z",
     "start_time": "2024-09-26T15:06:16.240857Z"
    }
   },
   "cell_type": "code",
   "source": "agents_publishers_similarity = initialize_deal(publisher_list, 10, agents, adv_embeddings)",
   "id": "92d3d7ba83663b42",
   "outputs": [],
   "execution_count": 41
  },
  {
   "metadata": {
    "ExecuteTime": {
     "end_time": "2024-09-26T15:06:17.421595Z",
     "start_time": "2024-09-26T15:06:17.414776Z"
    }
   },
   "cell_type": "code",
   "source": "agents_publishers_similarity['agent1']['repubblica.it']",
   "id": "d0ce3495689a8a87",
   "outputs": [
    {
     "data": {
      "text/plain": [
       "array([[0.49988949],\n",
       "       [0.51340985],\n",
       "       [0.54589478],\n",
       "       [0.52977638],\n",
       "       [0.52073111],\n",
       "       [0.54818871],\n",
       "       [0.50911809],\n",
       "       [0.52180341],\n",
       "       [0.49972175],\n",
       "       [0.51612423]])"
      ]
     },
     "execution_count": 42,
     "metadata": {},
     "output_type": "execute_result"
    }
   ],
   "execution_count": 42
  },
  {
   "metadata": {
    "ExecuteTime": {
     "end_time": "2024-09-26T15:35:23.995450Z",
     "start_time": "2024-09-26T15:35:23.984078Z"
    }
   },
   "cell_type": "code",
   "source": "agents_publishers_similarity['agent1']['repubblica.it'][0][0]",
   "id": "99f7fd1c46957c18",
   "outputs": [
    {
     "data": {
      "text/plain": [
       "0.49988948507923375"
      ]
     },
     "execution_count": 47,
     "metadata": {},
     "output_type": "execute_result"
    }
   ],
   "execution_count": 47
  },
  {
   "metadata": {
    "ExecuteTime": {
     "end_time": "2024-09-27T08:01:25.469231Z",
     "start_time": "2024-09-27T08:01:25.417252Z"
    }
   },
   "cell_type": "code",
   "source": "rng = np.random.default_rng(0)",
   "id": "c5fa347310044b0e",
   "outputs": [],
   "execution_count": 48
  },
  {
   "metadata": {
    "ExecuteTime": {
     "end_time": "2024-09-27T08:04:41.661515Z",
     "start_time": "2024-09-27T08:04:41.645728Z"
    }
   },
   "cell_type": "code",
   "source": "rng.lognormal(-3, 0.1, 10)",
   "id": "1fd6b124598fe26b",
   "outputs": [
    {
     "data": {
      "text/plain": [
       "array([0.04877915, 0.04485653, 0.05293515, 0.04879961, 0.04765885,\n",
       "       0.05244366, 0.04746997, 0.05720568, 0.05156797, 0.04748064])"
      ]
     },
     "execution_count": 67,
     "metadata": {},
     "output_type": "execute_result"
    }
   ],
   "execution_count": 67
  },
  {
   "metadata": {
    "ExecuteTime": {
     "end_time": "2024-09-27T08:03:31.720804Z",
     "start_time": "2024-09-27T08:03:31.708160Z"
    }
   },
   "cell_type": "code",
   "source": "rng.normal(0, 0.01, 10)",
   "id": "2ec28524acb2e15c",
   "outputs": [
    {
     "data": {
      "text/plain": [
       "array([-0.00287388,  0.01574408, -0.00432786, -0.00735483,  0.00249785,\n",
       "        0.01031453,  0.0016101 , -0.00585529, -0.0134122 , -0.0140152 ])"
      ]
     },
     "execution_count": 58,
     "metadata": {},
     "output_type": "execute_result"
    }
   ],
   "execution_count": 58
  },
  {
   "metadata": {},
   "cell_type": "code",
   "outputs": [],
   "execution_count": null,
   "source": "",
   "id": "fb1cb086ac41871a"
  }
 ],
 "metadata": {
  "kernelspec": {
   "display_name": "Python 3",
   "language": "python",
   "name": "python3"
  },
  "language_info": {
   "codemirror_mode": {
    "name": "ipython",
    "version": 2
   },
   "file_extension": ".py",
   "mimetype": "text/x-python",
   "name": "python",
   "nbconvert_exporter": "python",
   "pygments_lexer": "ipython2",
   "version": "2.7.6"
  }
 },
 "nbformat": 4,
 "nbformat_minor": 5
}
