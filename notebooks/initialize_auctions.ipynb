{
 "cells": [
  {
   "metadata": {
    "ExecuteTime": {
     "end_time": "2024-10-03T08:15:50.534895Z",
     "start_time": "2024-10-03T08:15:49.343194Z"
    }
   },
   "cell_type": "code",
   "source": [
    "import numpy as np\n",
    "import pickle\n",
    "import torch"
   ],
   "id": "c3547af95057b9d4",
   "outputs": [],
   "execution_count": 1
  },
  {
   "metadata": {
    "ExecuteTime": {
     "end_time": "2024-10-03T08:16:12.948792Z",
     "start_time": "2024-10-03T08:16:12.904091Z"
    }
   },
   "cell_type": "code",
   "source": [
    "if torch.backends.mps.is_available():\n",
    "    device = torch.device(\"mps\")\n",
    "    print(\"MPS è disponibile!\")\n",
    "else:\n",
    "    device = torch.device(\"cpu\")\n",
    "    print(\"MPS non è disponibile, si utilizza la CPU.\")"
   ],
   "id": "90775b12a1dfc57f",
   "outputs": [
    {
     "name": "stdout",
     "output_type": "stream",
     "text": [
      "MPS è disponibile!\n"
     ]
    }
   ],
   "execution_count": 2
  },
  {
   "metadata": {
    "ExecuteTime": {
     "end_time": "2024-10-02T15:44:44.609629Z",
     "start_time": "2024-10-02T15:44:44.602691Z"
    }
   },
   "cell_type": "code",
   "outputs": [],
   "execution_count": 2,
   "source": [
    "def logistic_fun(x, k=1, x0=0):\n",
    "    return 1.0 / (1.0 + np.exp(-k * (x - x0)))"
   ],
   "id": "69bb99b68928469b"
  },
  {
   "metadata": {
    "ExecuteTime": {
     "end_time": "2024-10-02T15:44:44.628767Z",
     "start_time": "2024-10-02T15:44:44.625314Z"
    }
   },
   "cell_type": "code",
   "outputs": [],
   "execution_count": 3,
   "source": [
    "def add_noise(user_embedding, noise_strength):\n",
    "    noise = np.random.normal(0, noise_strength, user_embedding.shape)\n",
    "    return user_embedding + noise"
   ],
   "id": "e0939d2e46eb2850"
  },
  {
   "metadata": {
    "collapsed": true,
    "ExecuteTime": {
     "end_time": "2024-10-02T15:44:44.795115Z",
     "start_time": "2024-10-02T15:44:44.787054Z"
    }
   },
   "cell_type": "code",
   "outputs": [],
   "execution_count": 4,
   "source": [
    "def get_sites_ads_sigmoids(descr_annunci_emb, sites_embeddings):\n",
    "    # First, compute the scalar product between sites and ads descriptions embeddings\n",
    "    sites_ad_dot_prod = {}\n",
    "    for site_name, site_emb in sites_embeddings.items():\n",
    "        sites_ad_dot_prod[site_name] = {}\n",
    "        for prod_name, prod_emb in descr_annunci_emb.items():\n",
    "            sites_ad_dot_prod[site_name][prod_name] = prod_emb @ site_emb\n",
    "    # Take the mean and standard deviation of the scalar products\n",
    "    full_array_scores = np.array([list(descr_seg_score.values()) for descr_seg_score in list(sites_ad_dot_prod.values())])\n",
    "    mean_scores = np.mean(full_array_scores)\n",
    "    std_scores = np.std(full_array_scores)\n",
    "    # Compute logistic function for each score\n",
    "    sigmoids = {}\n",
    "    for site_name, descr_seg_score in sites_ad_dot_prod.items():\n",
    "        sigmoids[site_name] = {}\n",
    "        for seg_name, score in descr_seg_score.items():\n",
    "            sigmoids[site_name][seg_name] = logistic_fun(score, k=1/(0.5*std_scores), x0=mean_scores)\n",
    "    return sites_ad_dot_prod, sigmoids"
   ],
   "id": "initial_id"
  },
  {
   "metadata": {
    "ExecuteTime": {
     "end_time": "2024-10-03T08:16:33.302135Z",
     "start_time": "2024-10-03T08:16:33.287695Z"
    }
   },
   "cell_type": "code",
   "source": [
    "# leggi embeddings\n",
    "adv_embeddings = pickle.load(open(\"../src/publisher_embedding/data/embeddings_to_pick/ad_embeddings_red_70.pkl\", \"rb\"))\n",
    "publisher_embeddings = pickle.load(open(\"../src/publisher_embedding/data/embeddings_to_pick/sites_embeddings_red_70.pkl\", \"rb\"))"
   ],
   "id": "2b6ab3546ca2d3c6",
   "outputs": [],
   "execution_count": 3
  },
  {
   "metadata": {
    "ExecuteTime": {
     "end_time": "2024-10-03T08:16:33.627949Z",
     "start_time": "2024-10-03T08:16:33.625269Z"
    }
   },
   "cell_type": "code",
   "source": [
    "rounds_per_iter = 500\n",
    "num_iter = 100\n",
    "dim_embedding = 70\n",
    "noise_strength = 0.01"
   ],
   "id": "c6cca9dcbdfcd857",
   "outputs": [],
   "execution_count": 4
  },
  {
   "metadata": {
    "ExecuteTime": {
     "end_time": "2024-10-03T08:16:34.114938Z",
     "start_time": "2024-10-03T08:16:34.111217Z"
    }
   },
   "cell_type": "code",
   "source": "n, m, k = num_iter, rounds_per_iter, dim_embedding",
   "id": "88c116d7ce4273c1",
   "outputs": [],
   "execution_count": 5
  },
  {
   "metadata": {
    "ExecuteTime": {
     "end_time": "2024-10-03T08:02:39.691240Z",
     "start_time": "2024-10-03T08:02:39.654427Z"
    }
   },
   "cell_type": "code",
   "outputs": [],
   "execution_count": 50,
   "source": "pub_tens = torch.tensor(publisher_embeddings['corriere.it']).float().to(device)",
   "id": "8f31a8d5e1c68898"
  },
  {
   "metadata": {
    "ExecuteTime": {
     "end_time": "2024-10-03T08:03:18.527241Z",
     "start_time": "2024-10-03T08:03:18.445594Z"
    }
   },
   "cell_type": "code",
   "source": "new_tensor = pub_tens.repeat(n, m, 1).to(device)",
   "id": "57f7938da718d67f",
   "outputs": [],
   "execution_count": 52
  },
  {
   "metadata": {
    "ExecuteTime": {
     "end_time": "2024-10-03T08:03:47.916646Z",
     "start_time": "2024-10-03T08:03:47.825792Z"
    }
   },
   "cell_type": "code",
   "source": "noise_tensor = torch.normal(0, noise_strength, size=(n,m,k)).to(device)",
   "id": "309cee28afa2af56",
   "outputs": [],
   "execution_count": 55
  },
  {
   "metadata": {
    "ExecuteTime": {
     "end_time": "2024-10-03T08:03:56.017027Z",
     "start_time": "2024-10-03T08:03:56.004817Z"
    }
   },
   "cell_type": "code",
   "source": "new_tensor = torch.add(new_tensor, noise_tensor).to(device)",
   "id": "137f6c7e59cd403d",
   "outputs": [],
   "execution_count": 56
  },
  {
   "metadata": {
    "ExecuteTime": {
     "end_time": "2024-10-03T08:16:38.614876Z",
     "start_time": "2024-10-03T08:16:38.611236Z"
    }
   },
   "cell_type": "code",
   "source": [
    "def generate_user_contexts(num_iter, rounds_per_iter, dim_embedding, noise_strength, publisher_embeddings):\n",
    "    \"\"\"\n",
    "    Genera un dizionario con publisher come chiave e un tensore con dimensioni num_iter x rounds_per_iter x dim_embedding\n",
    "    \"\"\"\n",
    "    n, m, k = num_iter, rounds_per_iter, dim_embedding\n",
    "    user_contexts = {}\n",
    "    for publisher_name, pub_emb in publisher_embeddings.items():\n",
    "        pub_tens = torch.tensor(pub_emb).float().to(device)\n",
    "        new_tensor = pub_tens.repeat(n, m, 1).to(device)\n",
    "        noise_tensor = torch.normal(0, noise_strength, size=(n,m,k)).to(device)\n",
    "        new_tensor = torch.add(new_tensor, noise_tensor).to(device)\n",
    "        user_contexts[publisher_name] = new_tensor\n",
    "    return user_contexts"
   ],
   "id": "4181af43b6f5f20c",
   "outputs": [],
   "execution_count": 6
  },
  {
   "metadata": {
    "ExecuteTime": {
     "end_time": "2024-10-03T08:20:24.690383Z",
     "start_time": "2024-10-03T08:20:24.687215Z"
    }
   },
   "cell_type": "code",
   "source": [
    "# Prendo solo i primi 300 publisher\n",
    "for i in range(250):\n",
    "    publisher_embeddings.popitem()"
   ],
   "id": "4590197ed056e4a1",
   "outputs": [],
   "execution_count": 10
  },
  {
   "metadata": {
    "ExecuteTime": {
     "end_time": "2024-10-03T08:20:45.353138Z",
     "start_time": "2024-10-03T08:20:30.132434Z"
    }
   },
   "cell_type": "code",
   "source": "user_contexts = generate_user_contexts(num_iter, rounds_per_iter, dim_embedding, noise_strength, publisher_embeddings)",
   "id": "5a9db2aa1b5ea03d",
   "outputs": [],
   "execution_count": 11
  },
  {
   "metadata": {},
   "cell_type": "code",
   "source": [
    "scalar_products = {}\n",
    "for publisher_name, user_context in user_contexts.items():\n",
    "    scalar_products[publisher_name] = {}\n",
    "    for adv_name, adv_emb in adv_embeddings.items():\n",
    "        scalar_products[publisher_name][adv_name] = torch.matmul(user_context, torch.tensor(adv_emb).float().to(device)).to(device)"
   ],
   "id": "336ec256fa2a7546",
   "outputs": [],
   "execution_count": null
  },
  {
   "metadata": {
    "ExecuteTime": {
     "end_time": "2024-10-03T09:31:15.105130Z",
     "start_time": "2024-10-03T09:31:14.416196Z"
    }
   },
   "cell_type": "code",
   "source": [
    "all_tensors = []\n",
    "for publisher_name, adv_scores in scalar_products.items():\n",
    "    for adv_name, score in adv_scores.items():\n",
    "        all_tensors.append(score)\n",
    "all_tensors = torch.cat(all_tensors).to(device)\n",
    "mean_scores = torch.mean(all_tensors).to(device)\n",
    "std_scores = torch.std(all_tensors).to(device)"
   ],
   "id": "113c059b2fcb9675",
   "outputs": [],
   "execution_count": 38
  },
  {
   "metadata": {
    "ExecuteTime": {
     "end_time": "2024-10-03T09:31:50.591765Z",
     "start_time": "2024-10-03T09:31:49.324200Z"
    }
   },
   "cell_type": "code",
   "source": [
    "sigmoids = {}\n",
    "for publisher_name, adv_scores in scalar_products.items():\n",
    "    sigmoids[publisher_name] = {}\n",
    "    for adv_name, score in adv_scores.items():\n",
    "        sigmoids[publisher_name][adv_name] = torch.special.expit((score-mean_scores) / (0.5*std_scores)).to(device)"
   ],
   "id": "518b8bbda55a6ca4",
   "outputs": [],
   "execution_count": 39
  },
  {
   "metadata": {},
   "cell_type": "code",
   "outputs": [],
   "execution_count": null,
   "source": [
    "def compute_sigmoids(user_contexts, adv_embeddings):\n",
    "    \"\"\"\n",
    "    Restituisco un dizionario con publisher come chiave e un dizionario con annunci come \n",
    "    chiave e una matrice torch con dimensioni num_iter x rounds_per_iter come valore\n",
    "    \"\"\"\n",
    "    # Compute scalar products\n",
    "    scalar_products = {}\n",
    "    for publisher_name, user_context in user_contexts.items():\n",
    "        scalar_products[publisher_name] = {}\n",
    "        for adv_name, adv_emb in adv_embeddings.items():\n",
    "            scalar_products[publisher_name][adv_name] = torch.matmul(user_context, torch.tensor(adv_emb).float().to(device)).to(device)\n",
    "    # Compute mean and std over all scalar products for all publishers and ads\n",
    "    all_tensors = []\n",
    "    for publisher_name, adv_scores in scalar_products.items():\n",
    "        for adv_name, score in adv_scores.items():\n",
    "            all_tensors.append(score)\n",
    "    all_tensors = torch.cat(all_tensors).to(device)\n",
    "    mean_scores = torch.mean(all_tensors).to(device)\n",
    "    std_scores = torch.std(all_tensors).to(device)\n",
    "    # Compute sigmoids\n",
    "    sigmoids = {}\n",
    "    for publisher_name, adv_scores in scalar_products.items():\n",
    "        sigmoids[publisher_name] = {}\n",
    "        for adv_name, score in adv_scores.items():\n",
    "            sigmoids[publisher_name][adv_name] = torch.special.expit((score-mean_scores) / (0.5*std_scores)).to(device)\n",
    "    return sigmoids"
   ],
   "id": "4d08eb9bb3b93f2d"
  },
  {
   "metadata": {
    "ExecuteTime": {
     "end_time": "2024-10-03T08:26:49.234859Z",
     "start_time": "2024-10-03T08:26:49.190277Z"
    }
   },
   "cell_type": "code",
   "source": "user_contexts['corriere.it'].shape",
   "id": "29afeeb6a1489ea4",
   "outputs": [
    {
     "data": {
      "text/plain": [
       "torch.Size([100, 500, 70])"
      ]
     },
     "execution_count": 12,
     "metadata": {},
     "output_type": "execute_result"
    }
   ],
   "execution_count": 12
  },
  {
   "metadata": {
    "ExecuteTime": {
     "end_time": "2024-10-03T08:32:15.673941Z",
     "start_time": "2024-10-03T08:32:15.634308Z"
    }
   },
   "cell_type": "code",
   "source": "ad_esempio = torch.tensor(adv_embeddings['Reflex Pro']).float().to(device)",
   "id": "a584298d6ccc8a7a",
   "outputs": [],
   "execution_count": 13
  },
  {
   "metadata": {
    "ExecuteTime": {
     "end_time": "2024-10-03T08:32:35.442973Z",
     "start_time": "2024-10-03T08:32:35.437610Z"
    }
   },
   "cell_type": "code",
   "source": "result = torch.matmul(user_contexts['corriere.it'], ad_esempio).to(device)",
   "id": "b49c912d93d2c9f2",
   "outputs": [],
   "execution_count": 15
  },
  {
   "metadata": {
    "ExecuteTime": {
     "end_time": "2024-10-03T08:33:09.027655Z",
     "start_time": "2024-10-03T08:33:08.635767Z"
    }
   },
   "cell_type": "code",
   "source": [
    "# media e std\n",
    "mean = torch.mean(result).to(device)\n",
    "std = torch.std(result).to(device)"
   ],
   "id": "93697f47227bf5c9",
   "outputs": [],
   "execution_count": 16
  },
  {
   "metadata": {
    "ExecuteTime": {
     "end_time": "2024-10-03T08:38:58.671938Z",
     "start_time": "2024-10-03T08:38:58.655062Z"
    }
   },
   "cell_type": "code",
   "source": [
    "def logistic_fun(x, k=1.0, x0=0.0):\n",
    "    return 1.0 / (1.0 + torch.exp(-k * (x - x0)))"
   ],
   "id": "20ea42e02f82dbf3",
   "outputs": [],
   "execution_count": 17
  },
  {
   "metadata": {
    "ExecuteTime": {
     "end_time": "2024-10-03T08:46:39.535120Z",
     "start_time": "2024-10-03T08:46:39.523998Z"
    }
   },
   "cell_type": "code",
   "source": "sigmoids_esempio = logistic_fun(result, k=1/(0.5*std), x0=mean).to(device)",
   "id": "c8e01ae34d997ace",
   "outputs": [],
   "execution_count": 31
  },
  {
   "metadata": {
    "ExecuteTime": {
     "end_time": "2024-10-03T08:46:44.389019Z",
     "start_time": "2024-10-03T08:46:41.666569Z"
    }
   },
   "cell_type": "code",
   "source": [
    "# plot distribuzione\n",
    "import matplotlib.pyplot as plt\n",
    "plt.hist(sigmoids_esempio.cpu().detach().numpy())\n",
    "plt.show()"
   ],
   "id": "24d2c7880ad82adf",
   "outputs": [
    {
     "data": {
      "text/plain": [
       "<Figure size 640x480 with 1 Axes>"
      ],
      "image/png": "[encoded data removed]"
     },
     "metadata": {},
     "output_type": "display_data"
    }
   ],
   "execution_count": 32
  },
  {
   "metadata": {
    "ExecuteTime": {
     "end_time": "2024-10-03T08:51:48.140462Z",
     "start_time": "2024-10-03T08:51:47.620719Z"
    }
   },
   "cell_type": "code",
   "source": [
    "plt.plot(result.cpu().detach().numpy(), sigmoids_esempio.cpu().detach().numpy(), '.')\n",
    "plt.axvline(x=mean.cpu().detach().numpy(), color='r')\n",
    "plt.axhline(y=0, color='r')\n",
    "plt.show()"
   ],
   "id": "8e1efbe4490d5eae",
   "outputs": [
    {
     "data": {
      "text/plain": [
       "<Figure size 640x480 with 1 Axes>"
      ],
      "image/png": "[encoded data removed]"
     },
     "metadata": {},
     "output_type": "display_data"
    }
   ],
   "execution_count": 34
  },
  {
   "metadata": {},
   "cell_type": "code",
   "outputs": [],
   "execution_count": null,
   "source": "",
   "id": "102f2dde547bf371"
  },
  {
   "metadata": {
    "ExecuteTime": {
     "end_time": "2024-10-03T12:37:53.425389Z",
     "start_time": "2024-10-03T12:37:53.375970Z"
    }
   },
   "cell_type": "code",
   "source": [
    "import numpy as np\n",
    "\n",
    "def generate_user_contexts(num_iter, rounds_per_iter, dim_embedding, noise_strength, publisher_embeddings):\n",
    "    \"\"\"\n",
    "    Genera un dizionario con publisher come chiave e un array con dimensioni num_iter x rounds_per_iter x dim_embedding\n",
    "    \"\"\"\n",
    "    n, m, k = num_iter, rounds_per_iter, dim_embedding\n",
    "    user_contexts = {}\n",
    "    for publisher_name, pub_emb in publisher_embeddings.items():\n",
    "        new_array = np.tile(pub_emb, (n, m, 1))\n",
    "        noise_array = np.random.normal(0, noise_strength, size=(n, m, k))\n",
    "        new_array += noise_array\n",
    "        user_contexts[publisher_name] = new_array\n",
    "    return user_contexts\n",
    "\n",
    "def compute_sigmoids(user_contexts, adv_embeddings):\n",
    "    \"\"\"\n",
    "    Restituisco un dizionario con publisher come chiave e un dizionario con annunci come\n",
    "    chiave e una matrice numpy con dimensioni num_iter x rounds_per_iter come valore\n",
    "    \"\"\"\n",
    "    # Compute scalar products\n",
    "    scalar_products = {}\n",
    "    for publisher_name, user_context in user_contexts.items():\n",
    "        scalar_products[publisher_name] = {}\n",
    "        for adv_name, adv_emb in adv_embeddings.items():\n",
    "            scalar_products[publisher_name][adv_name] = np.einsum('ijk,k->ij', user_context, adv_emb)\n",
    "    # Compute mean and std over all scalar products for all publishers and ads\n",
    "    all_tensors = np.concatenate([score for adv_scores in scalar_products.values() for score in adv_scores.values()])\n",
    "    mean_scores = np.mean(all_tensors)\n",
    "    std_scores = np.std(all_tensors)\n",
    "    # Compute sigmoids\n",
    "    sigmoids = {}\n",
    "    for publisher_name, adv_scores in scalar_products.items():\n",
    "        sigmoids[publisher_name] = {}\n",
    "        for adv_name, score in adv_scores.items():\n",
    "            sigmoids[publisher_name][adv_name] = 1 / (1 + np.exp(-(score - mean_scores) / (0.5*std_scores)))\n",
    "    return sigmoids\n",
    "\n",
    "def initialize_deal(num_iter, rounds_per_iter, dim_embedding, noise_strength, publisher_embeddings, adv_embeddings):\n",
    "    user_contexts = generate_user_contexts(num_iter, rounds_per_iter, dim_embedding, noise_strength, publisher_embeddings)\n",
    "    adv_sigmoids = compute_sigmoids(user_contexts, adv_embeddings)\n",
    "    return user_contexts, adv_sigmoids"
   ],
   "id": "e4ec6b9d82b43631",
   "outputs": [],
   "execution_count": 68
  },
  {
   "metadata": {
    "ExecuteTime": {
     "end_time": "2024-10-03T12:40:20.690045Z",
     "start_time": "2024-10-03T12:37:59.474159Z"
    }
   },
   "cell_type": "code",
   "source": "user_contexts, adv_sigmoids = initialize_deal(num_iter, rounds_per_iter, dim_embedding, noise_strength, publisher_embeddings, adv_embeddings)",
   "id": "b3f73a43ff9f0144",
   "outputs": [],
   "execution_count": 69
  },
  {
   "metadata": {
    "ExecuteTime": {
     "end_time": "2024-10-03T12:41:19.197602Z",
     "start_time": "2024-10-03T12:40:32.253884Z"
    }
   },
   "cell_type": "code",
   "source": "np_sig = np.array([list(ad.values()) for ad in adv_sigmoids.values()]).flatten()",
   "id": "7e0d679694091703",
   "outputs": [],
   "execution_count": 70
  },
  {
   "metadata": {
    "ExecuteTime": {
     "end_time": "2024-10-03T12:41:21.498381Z",
     "start_time": "2024-10-03T12:41:19.309387Z"
    }
   },
   "cell_type": "code",
   "source": [
    "plt.hist(np_sig, bins=100)\n",
    "plt.show()"
   ],
   "id": "1304eb7f95abc0f2",
   "outputs": [
    {
     "data": {
      "text/plain": [
       "<Figure size 640x480 with 1 Axes>"
      ],
      "image/png": "[encoded data removed]"
     },
     "metadata": {},
     "output_type": "display_data"
    }
   ],
   "execution_count": 71
  },
  {
   "metadata": {
    "ExecuteTime": {
     "end_time": "2024-10-03T13:13:51.538216Z",
     "start_time": "2024-10-03T13:13:51.522409Z"
    }
   },
   "cell_type": "code",
   "source": [
    "cor = adv_sigmoids['corriere.it']['Reflex Pro']\n",
    "mean = np.mean(cor)\n",
    "std = np.std(cor)"
   ],
   "id": "5fe40f77e1ae6096",
   "outputs": [],
   "execution_count": 73
  },
  {
   "metadata": {},
   "cell_type": "code",
   "outputs": [],
   "execution_count": null,
   "source": "",
   "id": "400cfa3105bfa0ed"
  }
 ],
 "metadata": {
  "kernelspec": {
   "display_name": "Python 3",
   "language": "python",
   "name": "python3"
  },
  "language_info": {
   "codemirror_mode": {
    "name": "ipython",
    "version": 2
   },
   "file_extension": ".py",
   "mimetype": "text/x-python",
   "name": "python",
   "nbconvert_exporter": "python",
   "pygments_lexer": "ipython2",
   "version": "2.7.6"
  }
 },
 "nbformat": 4,
 "nbformat_minor": 5
}
